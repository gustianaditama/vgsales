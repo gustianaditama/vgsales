{
  "cells": [
    {
      "cell_type": "markdown",
      "metadata": {
        "id": "view-in-github",
        "colab_type": "text"
      },
      "source": [
        "<a href=\"https://colab.research.google.com/github/gustianaditama/vgsales/blob/main/video_game_sales.ipynb\" target=\"_parent\"><img src=\"https://colab.research.google.com/assets/colab-badge.svg\" alt=\"Open In Colab\"/></a>"
      ]
    },
    {
      "cell_type": "code",
      "execution_count": null,
      "metadata": {
        "colab": {
          "base_uri": "https://localhost:8080/"
        },
        "id": "_jW5AlZVN3_m",
        "outputId": "773c65c2-efb2-4bb1-8e25-378ee9c1df2a"
      },
      "outputs": [
        {
          "name": "stdout",
          "output_type": "stream",
          "text": [
            "Looking in indexes: https://pypi.org/simple, https://us-python.pkg.dev/colab-wheels/public/simple/\n",
            "Collecting petl\n",
            "  Downloading petl-1.7.12.tar.gz (409 kB)\n",
            "\u001b[2K     \u001b[90m━━━━━━━━━━━━━━━━━━━━━━━━━━━━━━━━━━━━━━\u001b[0m \u001b[32m409.6/409.6 kB\u001b[0m \u001b[31m13.3 MB/s\u001b[0m eta \u001b[36m0:00:00\u001b[0m\n",
            "\u001b[?25h  Installing build dependencies ... \u001b[?25l\u001b[?25hdone\n",
            "  Getting requirements to build wheel ... \u001b[?25l\u001b[?25hdone\n",
            "  Preparing metadata (pyproject.toml) ... \u001b[?25l\u001b[?25hdone\n",
            "Building wheels for collected packages: petl\n",
            "  Building wheel for petl (pyproject.toml) ... \u001b[?25l\u001b[?25hdone\n",
            "  Created wheel for petl: filename=petl-1.7.12-py3-none-any.whl size=226951 sha256=270a4499fb743204b68c7713188418cf0c070e00b3b5191e82ff696834b895aa\n",
            "  Stored in directory: /root/.cache/pip/wheels/17/a2/7a/68707dd0e3b3ce2a2acfcec8e16eb8464018a4a57eca1fd8fb\n",
            "Successfully built petl\n",
            "Installing collected packages: petl\n",
            "Successfully installed petl-1.7.12\n"
          ]
        }
      ],
      "source": [
        "! pip install petl"
      ]
    },
    {
      "cell_type": "code",
      "execution_count": null,
      "metadata": {
        "id": "amEoqBjsNlWm"
      },
      "outputs": [],
      "source": [
        "import pandas as pd\n",
        "import numpy as np\n",
        "import petl as etl\n",
        "import sqlite3"
      ]
    },
    {
      "cell_type": "code",
      "execution_count": null,
      "metadata": {
        "id": "I4QfKmEAOFoV"
      },
      "outputs": [],
      "source": [
        "engine = sqlite3.connect('vg_sales.db')\n",
        "data = pd.DataFrame(engine.execute(\"SELECT * FROM sales\"), columns=['Rank', 'Platform', 'NA_Sales', 'EU_Sales', 'JP_Sales', 'Other_Sales', 'Global_Sales'])\n",
        "data = data[['NA_Sales', 'EU_Sales', 'JP_Sales', 'Other_Sales', 'Global_Sales', 'Platform']]\n",
        "data.to_csv('vgsales.csv')"
      ]
    },
    {
      "cell_type": "markdown",
      "metadata": {
        "id": "a6rh1-OWFGqE"
      },
      "source": [
        "# EDA"
      ]
    },
    {
      "cell_type": "code",
      "execution_count": null,
      "metadata": {
        "id": "4chNLuwEdSd4"
      },
      "outputs": [],
      "source": [
        "import seaborn as sns"
      ]
    },
    {
      "cell_type": "code",
      "execution_count": null,
      "metadata": {
        "colab": {
          "base_uri": "https://localhost:8080/",
          "height": 300
        },
        "id": "4DRqvT2tdOxL",
        "outputId": "8fab5316-3857-4463-8cef-34216b36741c"
      },
      "outputs": [
        {
          "data": {
            "text/html": [
              "\n",
              "  <div id=\"df-7baaf5d2-8f1a-4638-92b2-31d9eaa5add7\">\n",
              "    <div class=\"colab-df-container\">\n",
              "      <div>\n",
              "<style scoped>\n",
              "    .dataframe tbody tr th:only-of-type {\n",
              "        vertical-align: middle;\n",
              "    }\n",
              "\n",
              "    .dataframe tbody tr th {\n",
              "        vertical-align: top;\n",
              "    }\n",
              "\n",
              "    .dataframe thead th {\n",
              "        text-align: right;\n",
              "    }\n",
              "</style>\n",
              "<table border=\"1\" class=\"dataframe\">\n",
              "  <thead>\n",
              "    <tr style=\"text-align: right;\">\n",
              "      <th></th>\n",
              "      <th>NA_Sales</th>\n",
              "      <th>EU_Sales</th>\n",
              "      <th>JP_Sales</th>\n",
              "      <th>Other_Sales</th>\n",
              "      <th>Global_Sales</th>\n",
              "    </tr>\n",
              "  </thead>\n",
              "  <tbody>\n",
              "    <tr>\n",
              "      <th>count</th>\n",
              "      <td>16598.000000</td>\n",
              "      <td>16598.000000</td>\n",
              "      <td>16598.000000</td>\n",
              "      <td>16598.000000</td>\n",
              "      <td>16598.000000</td>\n",
              "    </tr>\n",
              "    <tr>\n",
              "      <th>mean</th>\n",
              "      <td>0.264667</td>\n",
              "      <td>0.146652</td>\n",
              "      <td>0.077782</td>\n",
              "      <td>0.048063</td>\n",
              "      <td>0.537441</td>\n",
              "    </tr>\n",
              "    <tr>\n",
              "      <th>std</th>\n",
              "      <td>0.816683</td>\n",
              "      <td>0.505351</td>\n",
              "      <td>0.309291</td>\n",
              "      <td>0.188588</td>\n",
              "      <td>1.555028</td>\n",
              "    </tr>\n",
              "    <tr>\n",
              "      <th>min</th>\n",
              "      <td>0.000000</td>\n",
              "      <td>0.000000</td>\n",
              "      <td>0.000000</td>\n",
              "      <td>0.000000</td>\n",
              "      <td>0.010000</td>\n",
              "    </tr>\n",
              "    <tr>\n",
              "      <th>25%</th>\n",
              "      <td>0.000000</td>\n",
              "      <td>0.000000</td>\n",
              "      <td>0.000000</td>\n",
              "      <td>0.000000</td>\n",
              "      <td>0.060000</td>\n",
              "    </tr>\n",
              "    <tr>\n",
              "      <th>50%</th>\n",
              "      <td>0.080000</td>\n",
              "      <td>0.020000</td>\n",
              "      <td>0.000000</td>\n",
              "      <td>0.010000</td>\n",
              "      <td>0.170000</td>\n",
              "    </tr>\n",
              "    <tr>\n",
              "      <th>75%</th>\n",
              "      <td>0.240000</td>\n",
              "      <td>0.110000</td>\n",
              "      <td>0.040000</td>\n",
              "      <td>0.040000</td>\n",
              "      <td>0.470000</td>\n",
              "    </tr>\n",
              "    <tr>\n",
              "      <th>max</th>\n",
              "      <td>41.490000</td>\n",
              "      <td>29.020000</td>\n",
              "      <td>10.220000</td>\n",
              "      <td>10.570000</td>\n",
              "      <td>82.740000</td>\n",
              "    </tr>\n",
              "  </tbody>\n",
              "</table>\n",
              "</div>\n",
              "      <button class=\"colab-df-convert\" onclick=\"convertToInteractive('df-7baaf5d2-8f1a-4638-92b2-31d9eaa5add7')\"\n",
              "              title=\"Convert this dataframe to an interactive table.\"\n",
              "              style=\"display:none;\">\n",
              "        \n",
              "  <svg xmlns=\"http://www.w3.org/2000/svg\" height=\"24px\"viewBox=\"0 0 24 24\"\n",
              "       width=\"24px\">\n",
              "    <path d=\"M0 0h24v24H0V0z\" fill=\"none\"/>\n",
              "    <path d=\"M18.56 5.44l.94 2.06.94-2.06 2.06-.94-2.06-.94-.94-2.06-.94 2.06-2.06.94zm-11 1L8.5 8.5l.94-2.06 2.06-.94-2.06-.94L8.5 2.5l-.94 2.06-2.06.94zm10 10l.94 2.06.94-2.06 2.06-.94-2.06-.94-.94-2.06-.94 2.06-2.06.94z\"/><path d=\"M17.41 7.96l-1.37-1.37c-.4-.4-.92-.59-1.43-.59-.52 0-1.04.2-1.43.59L10.3 9.45l-7.72 7.72c-.78.78-.78 2.05 0 2.83L4 21.41c.39.39.9.59 1.41.59.51 0 1.02-.2 1.41-.59l7.78-7.78 2.81-2.81c.8-.78.8-2.07 0-2.86zM5.41 20L4 18.59l7.72-7.72 1.47 1.35L5.41 20z\"/>\n",
              "  </svg>\n",
              "      </button>\n",
              "      \n",
              "  <style>\n",
              "    .colab-df-container {\n",
              "      display:flex;\n",
              "      flex-wrap:wrap;\n",
              "      gap: 12px;\n",
              "    }\n",
              "\n",
              "    .colab-df-convert {\n",
              "      background-color: #E8F0FE;\n",
              "      border: none;\n",
              "      border-radius: 50%;\n",
              "      cursor: pointer;\n",
              "      display: none;\n",
              "      fill: #1967D2;\n",
              "      height: 32px;\n",
              "      padding: 0 0 0 0;\n",
              "      width: 32px;\n",
              "    }\n",
              "\n",
              "    .colab-df-convert:hover {\n",
              "      background-color: #E2EBFA;\n",
              "      box-shadow: 0px 1px 2px rgba(60, 64, 67, 0.3), 0px 1px 3px 1px rgba(60, 64, 67, 0.15);\n",
              "      fill: #174EA6;\n",
              "    }\n",
              "\n",
              "    [theme=dark] .colab-df-convert {\n",
              "      background-color: #3B4455;\n",
              "      fill: #D2E3FC;\n",
              "    }\n",
              "\n",
              "    [theme=dark] .colab-df-convert:hover {\n",
              "      background-color: #434B5C;\n",
              "      box-shadow: 0px 1px 3px 1px rgba(0, 0, 0, 0.15);\n",
              "      filter: drop-shadow(0px 1px 2px rgba(0, 0, 0, 0.3));\n",
              "      fill: #FFFFFF;\n",
              "    }\n",
              "  </style>\n",
              "\n",
              "      <script>\n",
              "        const buttonEl =\n",
              "          document.querySelector('#df-7baaf5d2-8f1a-4638-92b2-31d9eaa5add7 button.colab-df-convert');\n",
              "        buttonEl.style.display =\n",
              "          google.colab.kernel.accessAllowed ? 'block' : 'none';\n",
              "\n",
              "        async function convertToInteractive(key) {\n",
              "          const element = document.querySelector('#df-7baaf5d2-8f1a-4638-92b2-31d9eaa5add7');\n",
              "          const dataTable =\n",
              "            await google.colab.kernel.invokeFunction('convertToInteractive',\n",
              "                                                     [key], {});\n",
              "          if (!dataTable) return;\n",
              "\n",
              "          const docLinkHtml = 'Like what you see? Visit the ' +\n",
              "            '<a target=\"_blank\" href=https://colab.research.google.com/notebooks/data_table.ipynb>data table notebook</a>'\n",
              "            + ' to learn more about interactive tables.';\n",
              "          element.innerHTML = '';\n",
              "          dataTable['output_type'] = 'display_data';\n",
              "          await google.colab.output.renderOutput(dataTable, element);\n",
              "          const docLink = document.createElement('div');\n",
              "          docLink.innerHTML = docLinkHtml;\n",
              "          element.appendChild(docLink);\n",
              "        }\n",
              "      </script>\n",
              "    </div>\n",
              "  </div>\n",
              "  "
            ],
            "text/plain": [
              "           NA_Sales      EU_Sales      JP_Sales   Other_Sales  Global_Sales\n",
              "count  16598.000000  16598.000000  16598.000000  16598.000000  16598.000000\n",
              "mean       0.264667      0.146652      0.077782      0.048063      0.537441\n",
              "std        0.816683      0.505351      0.309291      0.188588      1.555028\n",
              "min        0.000000      0.000000      0.000000      0.000000      0.010000\n",
              "25%        0.000000      0.000000      0.000000      0.000000      0.060000\n",
              "50%        0.080000      0.020000      0.000000      0.010000      0.170000\n",
              "75%        0.240000      0.110000      0.040000      0.040000      0.470000\n",
              "max       41.490000     29.020000     10.220000     10.570000     82.740000"
            ]
          },
          "execution_count": 7,
          "metadata": {},
          "output_type": "execute_result"
        }
      ],
      "source": [
        "data.describe()"
      ]
    },
    {
      "cell_type": "code",
      "execution_count": null,
      "metadata": {
        "colab": {
          "base_uri": "https://localhost:8080/",
          "height": 707
        },
        "id": "hfPSSMLjnIhd",
        "outputId": "a9a1ab93-a435-4c11-8518-0ae30f3a29bb"
      },
      "outputs": [
        {
          "data": {
            "text/plain": [
              "<Axes: xlabel='Platform', ylabel='count'>"
            ]
          },
          "execution_count": 17,
          "metadata": {},
          "output_type": "execute_result"
        },
        {
          "data": {
            "image/png": "[encoded data removed]",
            "text/plain": [
              "<Figure size 1470x827 with 1 Axes>"
            ]
          },
          "metadata": {},
          "output_type": "display_data"
        }
      ],
      "source": [
        "sns.set(rc={'figure.figsize':(14.7,8.27)})\n",
        "sns.countplot(x='Platform',data=data)"
      ]
    },
    {
      "cell_type": "code",
      "execution_count": null,
      "metadata": {
        "colab": {
          "base_uri": "https://localhost:8080/",
          "height": 784
        },
        "id": "15njsilQpt3K",
        "outputId": "a33e77a5-f18b-405d-a5a7-c67515043a5c"
      },
      "outputs": [
        {
          "name": "stderr",
          "output_type": "stream",
          "text": [
            "WARNING:py.warnings:<ipython-input-18-e29f236107cb>:1: FutureWarning: The default value of numeric_only in DataFrame.corr is deprecated. In a future version, it will default to False. Select only valid columns or specify the value of numeric_only to silence this warning.\n",
            "  sns.heatmap(data.corr(), cmap='Blues', annot = True);\n",
            "\n"
          ]
        },
        {
          "data": {
            "image/png": "[encoded data removed]",
            "text/plain": [
              "<Figure size 1470x827 with 2 Axes>"
            ]
          },
          "metadata": {},
          "output_type": "display_data"
        }
      ],
      "source": [
        "sns.heatmap(data.corr(), cmap='Blues', annot = True);"
      ]
    },
    {
      "cell_type": "code",
      "execution_count": null,
      "metadata": {
        "colab": {
          "base_uri": "https://localhost:8080/"
        },
        "id": "1wfCtmudstRH",
        "outputId": "21e52232-24e9-4068-8b76-8b5b4fb85720"
      },
      "outputs": [
        {
          "data": {
            "text/plain": [
              "array(['Wii', 'NES', 'GB', 'DS', 'X360', 'PS3', 'PS2', 'SNES', 'GBA',\n",
              "       '3DS', 'PS4', 'N64', 'PS', 'XB', 'PC', '2600', 'PSP', 'XOne', 'GC',\n",
              "       'WiiU', 'GEN', 'DC', 'PSV', 'SAT', 'SCD', 'WS', 'NG', 'TG16',\n",
              "       '3DO', 'GG', 'PCFX'], dtype=object)"
            ]
          },
          "execution_count": 19,
          "metadata": {},
          "output_type": "execute_result"
        }
      ],
      "source": [
        "data['Platform'].unique()"
      ]
    },
    {
      "cell_type": "code",
      "execution_count": null,
      "metadata": {
        "colab": {
          "base_uri": "https://localhost:8080/"
        },
        "id": "uWDwPE_Xeg7P",
        "outputId": "65773640-d534-4a86-b9bd-8395f09eb309"
      },
      "outputs": [
        {
          "name": "stdout",
          "output_type": "stream",
          "text": [
            "<class 'pandas.core.frame.DataFrame'>\n",
            "RangeIndex: 16598 entries, 0 to 16597\n",
            "Data columns (total 6 columns):\n",
            " #   Column        Non-Null Count  Dtype  \n",
            "---  ------        --------------  -----  \n",
            " 0   NA_Sales      16598 non-null  float64\n",
            " 1   EU_Sales      16598 non-null  float64\n",
            " 2   JP_Sales      16598 non-null  float64\n",
            " 3   Other_Sales   16598 non-null  float64\n",
            " 4   Global_Sales  16598 non-null  float64\n",
            " 5   Platform      16598 non-null  object \n",
            "dtypes: float64(5), object(1)\n",
            "memory usage: 778.2+ KB\n"
          ]
        }
      ],
      "source": [
        "data.info()"
      ]
    },
    {
      "cell_type": "code",
      "execution_count": null,
      "metadata": {
        "colab": {
          "base_uri": "https://localhost:8080/"
        },
        "id": "40_uQBSie6hT",
        "outputId": "f50e306a-661a-4286-9ad9-05bfd8eb54d3"
      },
      "outputs": [
        {
          "data": {
            "text/plain": [
              "Int64Index([ 2081,  2082,  2083,  2084,  2085,  2086,  2087,  2088,  2089,\n",
              "             2090,\n",
              "            ...\n",
              "            16588, 16589, 16590, 16591, 16592, 16593, 16594, 16595, 16596,\n",
              "            16597],\n",
              "           dtype='int64', length=14517)"
            ]
          },
          "execution_count": 21,
          "metadata": {},
          "output_type": "execute_result"
        }
      ],
      "source": [
        "def outlier_index(data):\n",
        "  Q1 = data.quantile(0.25)\n",
        "  Q3 = data.quantile(0.75)\n",
        "  IQR = Q3 - Q1\n",
        "  out = (data < (Q1 - 1.5 * IQR) | (data > (Q3 + 1.5 * IQR)))\n",
        "  out = out.loc[(out['NA_Sales'] == True) & (out['EU_Sales'] == True) & (out['JP_Sales'] == True) & (out['Other_Sales'] == True) & (out['Global_Sales'] == True)].index\n",
        "  return out\n",
        "\n",
        "outlier_index(data[['NA_Sales', 'EU_Sales', 'JP_Sales', 'Other_Sales', 'Global_Sales']])"
      ]
    },
    {
      "cell_type": "markdown",
      "metadata": {
        "id": "aUf15ZYsuey0"
      },
      "source": [
        "# Cleaning"
      ]
    },
    {
      "cell_type": "markdown",
      "metadata": {
        "id": "WAiDGFdlyjNu"
      },
      "source": [
        "### Z-score"
      ]
    },
    {
      "cell_type": "code",
      "execution_count": null,
      "metadata": {
        "colab": {
          "base_uri": "https://localhost:8080/",
          "height": 423
        },
        "id": "Vcnug9CqunFs",
        "outputId": "6769aa13-8962-4813-dea4-1f7f863b5ffb"
      },
      "outputs": [
        {
          "data": {
            "text/html": [
              "\n",
              "  <div id=\"df-ba946b0b-8ae9-4813-82df-49de6b179460\">\n",
              "    <div class=\"colab-df-container\">\n",
              "      <div>\n",
              "<style scoped>\n",
              "    .dataframe tbody tr th:only-of-type {\n",
              "        vertical-align: middle;\n",
              "    }\n",
              "\n",
              "    .dataframe tbody tr th {\n",
              "        vertical-align: top;\n",
              "    }\n",
              "\n",
              "    .dataframe thead th {\n",
              "        text-align: right;\n",
              "    }\n",
              "</style>\n",
              "<table border=\"1\" class=\"dataframe\">\n",
              "  <thead>\n",
              "    <tr style=\"text-align: right;\">\n",
              "      <th></th>\n",
              "      <th>NA_Sales</th>\n",
              "      <th>EU_Sales</th>\n",
              "      <th>JP_Sales</th>\n",
              "      <th>Other_Sales</th>\n",
              "      <th>Global_Sales</th>\n",
              "      <th>Platform</th>\n",
              "    </tr>\n",
              "  </thead>\n",
              "  <tbody>\n",
              "    <tr>\n",
              "      <th>0</th>\n",
              "      <td>50.478988</td>\n",
              "      <td>57.135209</td>\n",
              "      <td>11.937698</td>\n",
              "      <td>44.604742</td>\n",
              "      <td>52.862433</td>\n",
              "      <td>Wii</td>\n",
              "    </tr>\n",
              "    <tr>\n",
              "      <th>1</th>\n",
              "      <td>35.283374</td>\n",
              "      <td>6.793984</td>\n",
              "      <td>21.766640</td>\n",
              "      <td>3.828109</td>\n",
              "      <td>25.531734</td>\n",
              "      <td>NES</td>\n",
              "    </tr>\n",
              "    <tr>\n",
              "      <th>2</th>\n",
              "      <td>19.083698</td>\n",
              "      <td>25.197026</td>\n",
              "      <td>12.002362</td>\n",
              "      <td>17.296594</td>\n",
              "      <td>22.689341</td>\n",
              "      <td>Wii</td>\n",
              "    </tr>\n",
              "    <tr>\n",
              "      <th>3</th>\n",
              "      <td>18.961252</td>\n",
              "      <td>21.496629</td>\n",
              "      <td>10.353428</td>\n",
              "      <td>15.440700</td>\n",
              "      <td>20.875869</td>\n",
              "      <td>Wii</td>\n",
              "    </tr>\n",
              "    <tr>\n",
              "      <th>4</th>\n",
              "      <td>13.475647</td>\n",
              "      <td>17.301527</td>\n",
              "      <td>32.791869</td>\n",
              "      <td>5.047696</td>\n",
              "      <td>19.827656</td>\n",
              "      <td>GB</td>\n",
              "    </tr>\n",
              "    <tr>\n",
              "      <th>...</th>\n",
              "      <td>...</td>\n",
              "      <td>...</td>\n",
              "      <td>...</td>\n",
              "      <td>...</td>\n",
              "      <td>...</td>\n",
              "      <td>...</td>\n",
              "    </tr>\n",
              "    <tr>\n",
              "      <th>16593</th>\n",
              "      <td>-0.311831</td>\n",
              "      <td>-0.290198</td>\n",
              "      <td>-0.251484</td>\n",
              "      <td>-0.254857</td>\n",
              "      <td>-0.339184</td>\n",
              "      <td>GBA</td>\n",
              "    </tr>\n",
              "    <tr>\n",
              "      <th>16594</th>\n",
              "      <td>-0.311831</td>\n",
              "      <td>-0.290198</td>\n",
              "      <td>-0.251484</td>\n",
              "      <td>-0.254857</td>\n",
              "      <td>-0.339184</td>\n",
              "      <td>GC</td>\n",
              "    </tr>\n",
              "    <tr>\n",
              "      <th>16595</th>\n",
              "      <td>-0.324076</td>\n",
              "      <td>-0.290198</td>\n",
              "      <td>-0.251484</td>\n",
              "      <td>-0.254857</td>\n",
              "      <td>-0.339184</td>\n",
              "      <td>PS2</td>\n",
              "    </tr>\n",
              "    <tr>\n",
              "      <th>16596</th>\n",
              "      <td>-0.324076</td>\n",
              "      <td>-0.270410</td>\n",
              "      <td>-0.251484</td>\n",
              "      <td>-0.254857</td>\n",
              "      <td>-0.339184</td>\n",
              "      <td>DS</td>\n",
              "    </tr>\n",
              "    <tr>\n",
              "      <th>16597</th>\n",
              "      <td>-0.311831</td>\n",
              "      <td>-0.290198</td>\n",
              "      <td>-0.251484</td>\n",
              "      <td>-0.254857</td>\n",
              "      <td>-0.339184</td>\n",
              "      <td>GBA</td>\n",
              "    </tr>\n",
              "  </tbody>\n",
              "</table>\n",
              "<p>16598 rows × 6 columns</p>\n",
              "</div>\n",
              "      <button class=\"colab-df-convert\" onclick=\"convertToInteractive('df-ba946b0b-8ae9-4813-82df-49de6b179460')\"\n",
              "              title=\"Convert this dataframe to an interactive table.\"\n",
              "              style=\"display:none;\">\n",
              "        \n",
              "  <svg xmlns=\"http://www.w3.org/2000/svg\" height=\"24px\"viewBox=\"0 0 24 24\"\n",
              "       width=\"24px\">\n",
              "    <path d=\"M0 0h24v24H0V0z\" fill=\"none\"/>\n",
              "    <path d=\"M18.56 5.44l.94 2.06.94-2.06 2.06-.94-2.06-.94-.94-2.06-.94 2.06-2.06.94zm-11 1L8.5 8.5l.94-2.06 2.06-.94-2.06-.94L8.5 2.5l-.94 2.06-2.06.94zm10 10l.94 2.06.94-2.06 2.06-.94-2.06-.94-.94-2.06-.94 2.06-2.06.94z\"/><path d=\"M17.41 7.96l-1.37-1.37c-.4-.4-.92-.59-1.43-.59-.52 0-1.04.2-1.43.59L10.3 9.45l-7.72 7.72c-.78.78-.78 2.05 0 2.83L4 21.41c.39.39.9.59 1.41.59.51 0 1.02-.2 1.41-.59l7.78-7.78 2.81-2.81c.8-.78.8-2.07 0-2.86zM5.41 20L4 18.59l7.72-7.72 1.47 1.35L5.41 20z\"/>\n",
              "  </svg>\n",
              "      </button>\n",
              "      \n",
              "  <style>\n",
              "    .colab-df-container {\n",
              "      display:flex;\n",
              "      flex-wrap:wrap;\n",
              "      gap: 12px;\n",
              "    }\n",
              "\n",
              "    .colab-df-convert {\n",
              "      background-color: #E8F0FE;\n",
              "      border: none;\n",
              "      border-radius: 50%;\n",
              "      cursor: pointer;\n",
              "      display: none;\n",
              "      fill: #1967D2;\n",
              "      height: 32px;\n",
              "      padding: 0 0 0 0;\n",
              "      width: 32px;\n",
              "    }\n",
              "\n",
              "    .colab-df-convert:hover {\n",
              "      background-color: #E2EBFA;\n",
              "      box-shadow: 0px 1px 2px rgba(60, 64, 67, 0.3), 0px 1px 3px 1px rgba(60, 64, 67, 0.15);\n",
              "      fill: #174EA6;\n",
              "    }\n",
              "\n",
              "    [theme=dark] .colab-df-convert {\n",
              "      background-color: #3B4455;\n",
              "      fill: #D2E3FC;\n",
              "    }\n",
              "\n",
              "    [theme=dark] .colab-df-convert:hover {\n",
              "      background-color: #434B5C;\n",
              "      box-shadow: 0px 1px 3px 1px rgba(0, 0, 0, 0.15);\n",
              "      filter: drop-shadow(0px 1px 2px rgba(0, 0, 0, 0.3));\n",
              "      fill: #FFFFFF;\n",
              "    }\n",
              "  </style>\n",
              "\n",
              "      <script>\n",
              "        const buttonEl =\n",
              "          document.querySelector('#df-ba946b0b-8ae9-4813-82df-49de6b179460 button.colab-df-convert');\n",
              "        buttonEl.style.display =\n",
              "          google.colab.kernel.accessAllowed ? 'block' : 'none';\n",
              "\n",
              "        async function convertToInteractive(key) {\n",
              "          const element = document.querySelector('#df-ba946b0b-8ae9-4813-82df-49de6b179460');\n",
              "          const dataTable =\n",
              "            await google.colab.kernel.invokeFunction('convertToInteractive',\n",
              "                                                     [key], {});\n",
              "          if (!dataTable) return;\n",
              "\n",
              "          const docLinkHtml = 'Like what you see? Visit the ' +\n",
              "            '<a target=\"_blank\" href=https://colab.research.google.com/notebooks/data_table.ipynb>data table notebook</a>'\n",
              "            + ' to learn more about interactive tables.';\n",
              "          element.innerHTML = '';\n",
              "          dataTable['output_type'] = 'display_data';\n",
              "          await google.colab.output.renderOutput(dataTable, element);\n",
              "          const docLink = document.createElement('div');\n",
              "          docLink.innerHTML = docLinkHtml;\n",
              "          element.appendChild(docLink);\n",
              "        }\n",
              "      </script>\n",
              "    </div>\n",
              "  </div>\n",
              "  "
            ],
            "text/plain": [
              "        NA_Sales   EU_Sales   JP_Sales  Other_Sales  Global_Sales Platform\n",
              "0      50.478988  57.135209  11.937698    44.604742     52.862433      Wii\n",
              "1      35.283374   6.793984  21.766640     3.828109     25.531734      NES\n",
              "2      19.083698  25.197026  12.002362    17.296594     22.689341      Wii\n",
              "3      18.961252  21.496629  10.353428    15.440700     20.875869      Wii\n",
              "4      13.475647  17.301527  32.791869     5.047696     19.827656       GB\n",
              "...          ...        ...        ...          ...           ...      ...\n",
              "16593  -0.311831  -0.290198  -0.251484    -0.254857     -0.339184      GBA\n",
              "16594  -0.311831  -0.290198  -0.251484    -0.254857     -0.339184       GC\n",
              "16595  -0.324076  -0.290198  -0.251484    -0.254857     -0.339184      PS2\n",
              "16596  -0.324076  -0.270410  -0.251484    -0.254857     -0.339184       DS\n",
              "16597  -0.311831  -0.290198  -0.251484    -0.254857     -0.339184      GBA\n",
              "\n",
              "[16598 rows x 6 columns]"
            ]
          },
          "execution_count": 22,
          "metadata": {},
          "output_type": "execute_result"
        }
      ],
      "source": [
        "def zscore(data):\n",
        "  list_fitur = data.columns[:-1]\n",
        "  for fitur in list_fitur:\n",
        "    mean = data[fitur].mean()\n",
        "    stdev = data[fitur].std()\n",
        "    data[fitur] = (data[fitur]-mean)/stdev\n",
        "  return data\n",
        "\n",
        "data_normalized = zscore(data)\n",
        "data_normalized"
      ]
    },
    {
      "cell_type": "markdown",
      "metadata": {
        "id": "z6INl3_iyqw1"
      },
      "source": [
        "### Deleting Outlier"
      ]
    },
    {
      "cell_type": "code",
      "execution_count": null,
      "metadata": {
        "colab": {
          "base_uri": "https://localhost:8080/"
        },
        "id": "lRvrsMVTvPls",
        "outputId": "e29aac8b-72f1-46c8-bf03-1f8264195e06"
      },
      "outputs": [
        {
          "data": {
            "text/plain": [
              "Int64Index([  790,   851,   889,   919,   939,   941,   958,   963,   970,\n",
              "              978,\n",
              "            ...\n",
              "            16588, 16589, 16590, 16591, 16592, 16593, 16594, 16595, 16596,\n",
              "            16597],\n",
              "           dtype='int64', length=14825)"
            ]
          },
          "execution_count": 23,
          "metadata": {},
          "output_type": "execute_result"
        }
      ],
      "source": [
        "outlier_index(data_normalized[['NA_Sales', 'EU_Sales', 'JP_Sales', 'Other_Sales', 'Global_Sales']])"
      ]
    },
    {
      "cell_type": "code",
      "execution_count": null,
      "metadata": {
        "colab": {
          "base_uri": "https://localhost:8080/",
          "height": 423
        },
        "id": "K90mWaTmoA5W",
        "outputId": "ab417511-16b5-45b8-85e7-e7156db1a454"
      },
      "outputs": [
        {
          "data": {
            "text/html": [
              "\n",
              "  <div id=\"df-b71662d2-6f00-45ac-a684-df5ed6ae9be7\">\n",
              "    <div class=\"colab-df-container\">\n",
              "      <div>\n",
              "<style scoped>\n",
              "    .dataframe tbody tr th:only-of-type {\n",
              "        vertical-align: middle;\n",
              "    }\n",
              "\n",
              "    .dataframe tbody tr th {\n",
              "        vertical-align: top;\n",
              "    }\n",
              "\n",
              "    .dataframe thead th {\n",
              "        text-align: right;\n",
              "    }\n",
              "</style>\n",
              "<table border=\"1\" class=\"dataframe\">\n",
              "  <thead>\n",
              "    <tr style=\"text-align: right;\">\n",
              "      <th></th>\n",
              "      <th>NA_Sales</th>\n",
              "      <th>EU_Sales</th>\n",
              "      <th>JP_Sales</th>\n",
              "      <th>Other_Sales</th>\n",
              "      <th>Global_Sales</th>\n",
              "      <th>Platform</th>\n",
              "    </tr>\n",
              "  </thead>\n",
              "  <tbody>\n",
              "    <tr>\n",
              "      <th>0</th>\n",
              "      <td>50.478988</td>\n",
              "      <td>57.135209</td>\n",
              "      <td>11.937698</td>\n",
              "      <td>44.604742</td>\n",
              "      <td>52.862433</td>\n",
              "      <td>Wii</td>\n",
              "    </tr>\n",
              "    <tr>\n",
              "      <th>1</th>\n",
              "      <td>35.283374</td>\n",
              "      <td>6.793984</td>\n",
              "      <td>21.766640</td>\n",
              "      <td>3.828109</td>\n",
              "      <td>25.531734</td>\n",
              "      <td>NES</td>\n",
              "    </tr>\n",
              "    <tr>\n",
              "      <th>2</th>\n",
              "      <td>19.083698</td>\n",
              "      <td>25.197026</td>\n",
              "      <td>12.002362</td>\n",
              "      <td>17.296594</td>\n",
              "      <td>22.689341</td>\n",
              "      <td>Wii</td>\n",
              "    </tr>\n",
              "    <tr>\n",
              "      <th>3</th>\n",
              "      <td>18.961252</td>\n",
              "      <td>21.496629</td>\n",
              "      <td>10.353428</td>\n",
              "      <td>15.440700</td>\n",
              "      <td>20.875869</td>\n",
              "      <td>Wii</td>\n",
              "    </tr>\n",
              "    <tr>\n",
              "      <th>4</th>\n",
              "      <td>13.475647</td>\n",
              "      <td>17.301527</td>\n",
              "      <td>32.791869</td>\n",
              "      <td>5.047696</td>\n",
              "      <td>19.827656</td>\n",
              "      <td>GB</td>\n",
              "    </tr>\n",
              "    <tr>\n",
              "      <th>...</th>\n",
              "      <td>...</td>\n",
              "      <td>...</td>\n",
              "      <td>...</td>\n",
              "      <td>...</td>\n",
              "      <td>...</td>\n",
              "      <td>...</td>\n",
              "    </tr>\n",
              "    <tr>\n",
              "      <th>5006</th>\n",
              "      <td>-0.201630</td>\n",
              "      <td>-0.290198</td>\n",
              "      <td>-0.251484</td>\n",
              "      <td>1.229858</td>\n",
              "      <td>-0.101246</td>\n",
              "      <td>PS2</td>\n",
              "    </tr>\n",
              "    <tr>\n",
              "      <th>5059</th>\n",
              "      <td>-0.177140</td>\n",
              "      <td>-0.290198</td>\n",
              "      <td>-0.251484</td>\n",
              "      <td>1.123807</td>\n",
              "      <td>-0.101246</td>\n",
              "      <td>PS2</td>\n",
              "    </tr>\n",
              "    <tr>\n",
              "      <th>5374</th>\n",
              "      <td>-0.238364</td>\n",
              "      <td>-0.230834</td>\n",
              "      <td>-0.251484</td>\n",
              "      <td>1.070782</td>\n",
              "      <td>-0.126969</td>\n",
              "      <td>PS2</td>\n",
              "    </tr>\n",
              "    <tr>\n",
              "      <th>5675</th>\n",
              "      <td>-0.287342</td>\n",
              "      <td>-0.290198</td>\n",
              "      <td>-0.251484</td>\n",
              "      <td>1.229858</td>\n",
              "      <td>-0.139831</td>\n",
              "      <td>PS2</td>\n",
              "    </tr>\n",
              "    <tr>\n",
              "      <th>5928</th>\n",
              "      <td>-0.299587</td>\n",
              "      <td>-0.270410</td>\n",
              "      <td>-0.251484</td>\n",
              "      <td>1.176833</td>\n",
              "      <td>-0.152692</td>\n",
              "      <td>PS2</td>\n",
              "    </tr>\n",
              "  </tbody>\n",
              "</table>\n",
              "<p>1773 rows × 6 columns</p>\n",
              "</div>\n",
              "      <button class=\"colab-df-convert\" onclick=\"convertToInteractive('df-b71662d2-6f00-45ac-a684-df5ed6ae9be7')\"\n",
              "              title=\"Convert this dataframe to an interactive table.\"\n",
              "              style=\"display:none;\">\n",
              "        \n",
              "  <svg xmlns=\"http://www.w3.org/2000/svg\" height=\"24px\"viewBox=\"0 0 24 24\"\n",
              "       width=\"24px\">\n",
              "    <path d=\"M0 0h24v24H0V0z\" fill=\"none\"/>\n",
              "    <path d=\"M18.56 5.44l.94 2.06.94-2.06 2.06-.94-2.06-.94-.94-2.06-.94 2.06-2.06.94zm-11 1L8.5 8.5l.94-2.06 2.06-.94-2.06-.94L8.5 2.5l-.94 2.06-2.06.94zm10 10l.94 2.06.94-2.06 2.06-.94-2.06-.94-.94-2.06-.94 2.06-2.06.94z\"/><path d=\"M17.41 7.96l-1.37-1.37c-.4-.4-.92-.59-1.43-.59-.52 0-1.04.2-1.43.59L10.3 9.45l-7.72 7.72c-.78.78-.78 2.05 0 2.83L4 21.41c.39.39.9.59 1.41.59.51 0 1.02-.2 1.41-.59l7.78-7.78 2.81-2.81c.8-.78.8-2.07 0-2.86zM5.41 20L4 18.59l7.72-7.72 1.47 1.35L5.41 20z\"/>\n",
              "  </svg>\n",
              "      </button>\n",
              "      \n",
              "  <style>\n",
              "    .colab-df-container {\n",
              "      display:flex;\n",
              "      flex-wrap:wrap;\n",
              "      gap: 12px;\n",
              "    }\n",
              "\n",
              "    .colab-df-convert {\n",
              "      background-color: #E8F0FE;\n",
              "      border: none;\n",
              "      border-radius: 50%;\n",
              "      cursor: pointer;\n",
              "      display: none;\n",
              "      fill: #1967D2;\n",
              "      height: 32px;\n",
              "      padding: 0 0 0 0;\n",
              "      width: 32px;\n",
              "    }\n",
              "\n",
              "    .colab-df-convert:hover {\n",
              "      background-color: #E2EBFA;\n",
              "      box-shadow: 0px 1px 2px rgba(60, 64, 67, 0.3), 0px 1px 3px 1px rgba(60, 64, 67, 0.15);\n",
              "      fill: #174EA6;\n",
              "    }\n",
              "\n",
              "    [theme=dark] .colab-df-convert {\n",
              "      background-color: #3B4455;\n",
              "      fill: #D2E3FC;\n",
              "    }\n",
              "\n",
              "    [theme=dark] .colab-df-convert:hover {\n",
              "      background-color: #434B5C;\n",
              "      box-shadow: 0px 1px 3px 1px rgba(0, 0, 0, 0.15);\n",
              "      filter: drop-shadow(0px 1px 2px rgba(0, 0, 0, 0.3));\n",
              "      fill: #FFFFFF;\n",
              "    }\n",
              "  </style>\n",
              "\n",
              "      <script>\n",
              "        const buttonEl =\n",
              "          document.querySelector('#df-b71662d2-6f00-45ac-a684-df5ed6ae9be7 button.colab-df-convert');\n",
              "        buttonEl.style.display =\n",
              "          google.colab.kernel.accessAllowed ? 'block' : 'none';\n",
              "\n",
              "        async function convertToInteractive(key) {\n",
              "          const element = document.querySelector('#df-b71662d2-6f00-45ac-a684-df5ed6ae9be7');\n",
              "          const dataTable =\n",
              "            await google.colab.kernel.invokeFunction('convertToInteractive',\n",
              "                                                     [key], {});\n",
              "          if (!dataTable) return;\n",
              "\n",
              "          const docLinkHtml = 'Like what you see? Visit the ' +\n",
              "            '<a target=\"_blank\" href=https://colab.research.google.com/notebooks/data_table.ipynb>data table notebook</a>'\n",
              "            + ' to learn more about interactive tables.';\n",
              "          element.innerHTML = '';\n",
              "          dataTable['output_type'] = 'display_data';\n",
              "          await google.colab.output.renderOutput(dataTable, element);\n",
              "          const docLink = document.createElement('div');\n",
              "          docLink.innerHTML = docLinkHtml;\n",
              "          element.appendChild(docLink);\n",
              "        }\n",
              "      </script>\n",
              "    </div>\n",
              "  </div>\n",
              "  "
            ],
            "text/plain": [
              "       NA_Sales   EU_Sales   JP_Sales  Other_Sales  Global_Sales Platform\n",
              "0     50.478988  57.135209  11.937698    44.604742     52.862433      Wii\n",
              "1     35.283374   6.793984  21.766640     3.828109     25.531734      NES\n",
              "2     19.083698  25.197026  12.002362    17.296594     22.689341      Wii\n",
              "3     18.961252  21.496629  10.353428    15.440700     20.875869      Wii\n",
              "4     13.475647  17.301527  32.791869     5.047696     19.827656       GB\n",
              "...         ...        ...        ...          ...           ...      ...\n",
              "5006  -0.201630  -0.290198  -0.251484     1.229858     -0.101246      PS2\n",
              "5059  -0.177140  -0.290198  -0.251484     1.123807     -0.101246      PS2\n",
              "5374  -0.238364  -0.230834  -0.251484     1.070782     -0.126969      PS2\n",
              "5675  -0.287342  -0.290198  -0.251484     1.229858     -0.139831      PS2\n",
              "5928  -0.299587  -0.270410  -0.251484     1.176833     -0.152692      PS2\n",
              "\n",
              "[1773 rows x 6 columns]"
            ]
          },
          "execution_count": 24,
          "metadata": {},
          "output_type": "execute_result"
        }
      ],
      "source": [
        "data_no_out = data.drop(outlier_index(data_normalized[['NA_Sales', 'EU_Sales', 'JP_Sales', 'Other_Sales', 'Global_Sales']]))\n",
        "data_no_out"
      ]
    },
    {
      "cell_type": "markdown",
      "metadata": {
        "id": "r_FI0DcjdHgN"
      },
      "source": [
        "# Modelling (KNN)"
      ]
    },
    {
      "cell_type": "code",
      "execution_count": null,
      "metadata": {
        "id": "YHWz0lBUtOdL"
      },
      "outputs": [],
      "source": [
        "from sklearn.neighbors import KNeighborsClassifier\n",
        "from sklearn.model_selection import train_test_split\n",
        "from sklearn.metrics import classification_report"
      ]
    },
    {
      "cell_type": "code",
      "execution_count": null,
      "metadata": {
        "id": "Qkxk-O1FtwHb"
      },
      "outputs": [],
      "source": [
        "X = data_no_out[['NA_Sales', 'EU_Sales', 'JP_Sales', 'Other_Sales', 'Global_Sales']]\n",
        "Y = data_no_out['Platform']"
      ]
    },
    {
      "cell_type": "code",
      "execution_count": null,
      "metadata": {
        "id": "l7Z_RZs4tXjV"
      },
      "outputs": [],
      "source": [
        "X_train, X_test, y_train, y_test = train_test_split(X, Y, test_size = 0.2, random_state = 0)"
      ]
    },
    {
      "cell_type": "code",
      "execution_count": null,
      "metadata": {
        "colab": {
          "base_uri": "https://localhost:8080/",
          "height": 74
        },
        "id": "AMTU7p_Aw-li",
        "outputId": "af9b0089-19ca-4980-da3b-8968432dcc10"
      },
      "outputs": [
        {
          "data": {
            "text/html": [
              "<style>#sk-container-id-1 {color: black;background-color: white;}#sk-container-id-1 pre{padding: 0;}#sk-container-id-1 div.sk-toggleable {background-color: white;}#sk-container-id-1 label.sk-toggleable__label {cursor: pointer;display: block;width: 100%;margin-bottom: 0;padding: 0.3em;box-sizing: border-box;text-align: center;}#sk-container-id-1 label.sk-toggleable__label-arrow:before {content: \"▸\";float: left;margin-right: 0.25em;color: #696969;}#sk-container-id-1 label.sk-toggleable__label-arrow:hover:before {color: black;}#sk-container-id-1 div.sk-estimator:hover label.sk-toggleable__label-arrow:before {color: black;}#sk-container-id-1 div.sk-toggleable__content {max-height: 0;max-width: 0;overflow: hidden;text-align: left;background-color: #f0f8ff;}#sk-container-id-1 div.sk-toggleable__content pre {margin: 0.2em;color: black;border-radius: 0.25em;background-color: #f0f8ff;}#sk-container-id-1 input.sk-toggleable__control:checked~div.sk-toggleable__content {max-height: 200px;max-width: 100%;overflow: auto;}#sk-container-id-1 input.sk-toggleable__control:checked~label.sk-toggleable__label-arrow:before {content: \"▾\";}#sk-container-id-1 div.sk-estimator input.sk-toggleable__control:checked~label.sk-toggleable__label {background-color: #d4ebff;}#sk-container-id-1 div.sk-label input.sk-toggleable__control:checked~label.sk-toggleable__label {background-color: #d4ebff;}#sk-container-id-1 input.sk-hidden--visually {border: 0;clip: rect(1px 1px 1px 1px);clip: rect(1px, 1px, 1px, 1px);height: 1px;margin: -1px;overflow: hidden;padding: 0;position: absolute;width: 1px;}#sk-container-id-1 div.sk-estimator {font-family: monospace;background-color: #f0f8ff;border: 1px dotted black;border-radius: 0.25em;box-sizing: border-box;margin-bottom: 0.5em;}#sk-container-id-1 div.sk-estimator:hover {background-color: #d4ebff;}#sk-container-id-1 div.sk-parallel-item::after {content: \"\";width: 100%;border-bottom: 1px solid gray;flex-grow: 1;}#sk-container-id-1 div.sk-label:hover label.sk-toggleable__label {background-color: #d4ebff;}#sk-container-id-1 div.sk-serial::before {content: \"\";position: absolute;border-left: 1px solid gray;box-sizing: border-box;top: 0;bottom: 0;left: 50%;z-index: 0;}#sk-container-id-1 div.sk-serial {display: flex;flex-direction: column;align-items: center;background-color: white;padding-right: 0.2em;padding-left: 0.2em;position: relative;}#sk-container-id-1 div.sk-item {position: relative;z-index: 1;}#sk-container-id-1 div.sk-parallel {display: flex;align-items: stretch;justify-content: center;background-color: white;position: relative;}#sk-container-id-1 div.sk-item::before, #sk-container-id-1 div.sk-parallel-item::before {content: \"\";position: absolute;border-left: 1px solid gray;box-sizing: border-box;top: 0;bottom: 0;left: 50%;z-index: -1;}#sk-container-id-1 div.sk-parallel-item {display: flex;flex-direction: column;z-index: 1;position: relative;background-color: white;}#sk-container-id-1 div.sk-parallel-item:first-child::after {align-self: flex-end;width: 50%;}#sk-container-id-1 div.sk-parallel-item:last-child::after {align-self: flex-start;width: 50%;}#sk-container-id-1 div.sk-parallel-item:only-child::after {width: 0;}#sk-container-id-1 div.sk-dashed-wrapped {border: 1px dashed gray;margin: 0 0.4em 0.5em 0.4em;box-sizing: border-box;padding-bottom: 0.4em;background-color: white;}#sk-container-id-1 div.sk-label label {font-family: monospace;font-weight: bold;display: inline-block;line-height: 1.2em;}#sk-container-id-1 div.sk-label-container {text-align: center;}#sk-container-id-1 div.sk-container {/* jupyter's `normalize.less` sets `[hidden] { display: none; }` but bootstrap.min.css set `[hidden] { display: none !important; }` so we also need the `!important` here to be able to override the default hidden behavior on the sphinx rendered scikit-learn.org. See: https://github.com/scikit-learn/scikit-learn/issues/21755 */display: inline-block !important;position: relative;}#sk-container-id-1 div.sk-text-repr-fallback {display: none;}</style><div id=\"sk-container-id-1\" class=\"sk-top-container\"><div class=\"sk-text-repr-fallback\"><pre>KNeighborsClassifier(n_neighbors=3)</pre><b>In a Jupyter environment, please rerun this cell to show the HTML representation or trust the notebook. <br />On GitHub, the HTML representation is unable to render, please try loading this page with nbviewer.org.</b></div><div class=\"sk-container\" hidden><div class=\"sk-item\"><div class=\"sk-estimator sk-toggleable\"><input class=\"sk-toggleable__control sk-hidden--visually\" id=\"sk-estimator-id-1\" type=\"checkbox\" checked><label for=\"sk-estimator-id-1\" class=\"sk-toggleable__label sk-toggleable__label-arrow\">KNeighborsClassifier</label><div class=\"sk-toggleable__content\"><pre>KNeighborsClassifier(n_neighbors=3)</pre></div></div></div></div></div>"
            ],
            "text/plain": [
              "KNeighborsClassifier(n_neighbors=3)"
            ]
          },
          "execution_count": 28,
          "metadata": {},
          "output_type": "execute_result"
        }
      ],
      "source": [
        "classifier = KNeighborsClassifier(n_neighbors = 3)\n",
        "classifier.fit(X_train, y_train)"
      ]
    },
    {
      "cell_type": "code",
      "execution_count": null,
      "metadata": {
        "id": "tnt-mRCmxV0a"
      },
      "outputs": [],
      "source": [
        "y_pred = classifier.predict(X_test)"
      ]
    },
    {
      "cell_type": "code",
      "execution_count": null,
      "metadata": {
        "colab": {
          "base_uri": "https://localhost:8080/"
        },
        "id": "0cr1rTuIxNIc",
        "outputId": "d7a72f2b-5a7d-45c4-aa6b-f81ea65ce80e"
      },
      "outputs": [
        {
          "name": "stderr",
          "output_type": "stream",
          "text": [
            "WARNING:py.warnings:/usr/local/lib/python3.10/dist-packages/sklearn/metrics/_classification.py:1344: UndefinedMetricWarning: Precision and F-score are ill-defined and being set to 0.0 in labels with no predicted samples. Use `zero_division` parameter to control this behavior.\n",
            "  _warn_prf(average, modifier, msg_start, len(result))\n",
            "\n",
            "WARNING:py.warnings:/usr/local/lib/python3.10/dist-packages/sklearn/metrics/_classification.py:1344: UndefinedMetricWarning: Precision and F-score are ill-defined and being set to 0.0 in labels with no predicted samples. Use `zero_division` parameter to control this behavior.\n",
            "  _warn_prf(average, modifier, msg_start, len(result))\n",
            "\n",
            "WARNING:py.warnings:/usr/local/lib/python3.10/dist-packages/sklearn/metrics/_classification.py:1344: UndefinedMetricWarning: Precision and F-score are ill-defined and being set to 0.0 in labels with no predicted samples. Use `zero_division` parameter to control this behavior.\n",
            "  _warn_prf(average, modifier, msg_start, len(result))\n",
            "\n"
          ]
        },
        {
          "name": "stdout",
          "output_type": "stream",
          "text": [
            "              precision    recall  f1-score   support\n",
            "\n",
            "        2600       0.20      0.33      0.25         3\n",
            "         3DS       0.18      0.50      0.26        10\n",
            "          DC       0.00      0.00      0.00         2\n",
            "          DS       0.20      0.32      0.24        28\n",
            "          GB       0.26      0.33      0.29        15\n",
            "         GBA       0.20      0.25      0.22        12\n",
            "          GC       0.17      0.11      0.13         9\n",
            "         GEN       0.00      0.00      0.00         1\n",
            "         N64       0.33      0.33      0.33         6\n",
            "         NES       0.36      0.21      0.26        24\n",
            "          PC       0.23      0.33      0.27         9\n",
            "          PS       0.58      0.59      0.58        32\n",
            "         PS2       0.59      0.57      0.58        60\n",
            "         PS3       0.52      0.46      0.48        35\n",
            "         PS4       0.17      0.20      0.18        10\n",
            "         PSP       0.80      0.36      0.50        11\n",
            "         PSV       0.00      0.00      0.00         3\n",
            "         SAT       0.00      0.00      0.00         5\n",
            "        SNES       0.07      0.06      0.07        16\n",
            "          WS       0.00      0.00      0.00         1\n",
            "         Wii       0.08      0.04      0.05        25\n",
            "        WiiU       0.00      0.00      0.00         1\n",
            "        X360       0.48      0.52      0.50        25\n",
            "          XB       0.25      1.00      0.40         1\n",
            "        XOne       0.00      0.00      0.00        11\n",
            "\n",
            "    accuracy                           0.35       355\n",
            "   macro avg       0.23      0.26      0.22       355\n",
            "weighted avg       0.35      0.35      0.34       355\n",
            "\n"
          ]
        }
      ],
      "source": [
        "cm = classification_report(y_test, y_pred)\n",
        "print(cm)"
      ]
    },
    {
      "cell_type": "markdown",
      "metadata": {
        "id": "Xz_d0MWidDN0"
      },
      "source": [
        "# Dashboard"
      ]
    },
    {
      "cell_type": "code",
      "execution_count": null,
      "metadata": {
        "id": "WLLl3ncIgm2t"
      },
      "outputs": [],
      "source": [
        "! pip install streamlit -q"
      ]
    },
    {
      "cell_type": "code",
      "execution_count": null,
      "metadata": {
        "colab": {
          "base_uri": "https://localhost:8080/"
        },
        "id": "8QsnAW7Sgpgl",
        "outputId": "5f8542b6-5ac1-4199-b0e0-8f9273b0ae14"
      },
      "outputs": [
        {
          "name": "stdout",
          "output_type": "stream",
          "text": [
            "Overwriting app.py\n"
          ]
        }
      ],
      "source": [
        "%%writefile app.py\n",
        "import streamlit as st\n",
        "import pandas as pd\n",
        "\n",
        "data = pd.read_csv('vgsales.csv')\n",
        "data = data[['NA_Sales', 'EU_Sales', 'JP_Sales', 'Other_Sales', 'Global_Sales', 'Platform']]\n",
        "\n",
        "st.title('Projek Akhir Data Engineering\\nKelompok 34')\n",
        "\n",
        "#Describe data\n",
        "st.header(\"1. Informasi statistikal data berdasarkan daerah\")\n",
        "region = ['NA_Sales', 'EU_Sales', 'JP_Sales', 'Other_Sales', 'Global_Sales']\n",
        "selected_region = st.selectbox('Daerah', region)\n",
        "st.write(data.describe()[selected_region])\n",
        "\n",
        "#Showing all labels\n",
        "st.header(\"2. Daftar kelas yang dimiliki (Platform)\")\n",
        "st.write(data['Platform'].unique())\n",
        "\n",
        "#Showing number of row for each labels\n",
        "st.header(\"3. Banyaknya baris data yang dimiliki setiap label\")\n",
        "st.image(\"LabelCount.png\")\n",
        "st.write(\"Platform DS memiliki data yang paling banyak dan diikuti platform PS2 dengan perbedaan yang kecil\")\n",
        "\n",
        "#Showing heat Map\n",
        "st.header(\"4. Hubungan antara satu kolom dengan kolom lain\")\n",
        "st.image(\"CorrMap.png\")\n",
        "st.write(\"Hubungan antara NA_Sales dengan Global_Sales adalah yang paling kuat\")\n",
        "\n",
        "\n",
        "#Normalized with Z-score\n",
        "st.header(\"5. Normalisasi menggunakan Z-score\")\n",
        "def zscore(data):\n",
        "  list_fitur = data.columns[:-1]\n",
        "  for fitur in list_fitur:\n",
        "    mean = data[fitur].mean()\n",
        "    stdev = data[fitur].std()\n",
        "    data[fitur] = (data[fitur]-mean)/stdev\n",
        "  return data\n",
        "\n",
        "data_normalized = zscore(data)\n",
        "st.write(\"Data setelah dinormalisasi\")\n",
        "st.write(data_normalized)\n",
        "\n",
        "#Deleting outlier\n",
        "st.header(\"6. Menghapus data outlier\\nDihapus apabila semua kolom dalam satu baris adalah outlier\")\n",
        "def outlier_index(data):\n",
        "  Q1 = data.quantile(0.25)\n",
        "  Q3 = data.quantile(0.75)\n",
        "  IQR = Q3 - Q1\n",
        "  out = (data < (Q1 - 1.5 * IQR) | (data > (Q3 + 1.5 * IQR)))\n",
        "  out = out.loc[(out['NA_Sales'] == True) & (out['EU_Sales'] == True) & (out['JP_Sales'] == True) & (out['Other_Sales'] == True) & (out['Global_Sales'] == True)].index\n",
        "  return out\n",
        "\n",
        "data_no_out = data.drop(outlier_index(data_normalized[['NA_Sales', 'EU_Sales', 'JP_Sales', 'Other_Sales', 'Global_Sales']]))\n",
        "st.write(\"Data tanpa outlier :\")\n",
        "st.write(data_no_out)\n",
        "\n",
        "#Modelling\n",
        "from sklearn.neighbors import KNeighborsClassifier\n",
        "from sklearn.model_selection import train_test_split\n",
        "from sklearn.metrics import classification_report\n",
        "\n",
        "X = data_no_out[['NA_Sales', 'EU_Sales', 'JP_Sales', 'Other_Sales', 'Global_Sales']]\n",
        "Y = data_no_out['Platform']\n",
        "X_train, X_test, y_train, y_test = train_test_split(X, Y, test_size = 0.3, random_state = 0)\n",
        "\n",
        "classifier = KNeighborsClassifier(n_neighbors = 3)\n",
        "classifier.fit(X_train, y_train)\n",
        "\n",
        "y_pred = classifier.predict(X_test)\n",
        "cm = classification_report(y_test, y_pred)\n",
        "\n",
        "st.header(\"7. Melakukan pelatihan menggunakan algoritma KNN\")\n",
        "st.write(\"Data Latih :\")\n",
        "st.write(X_train)\n",
        "st.write(\"\\nData Uji :\")\n",
        "st.write(X_test)\n",
        "st.write(\"\\nHasil Prediksi :\")\n",
        "st.image(\"ClassificationReport.png\")"
      ]
    },
    {
      "cell_type": "code",
      "execution_count": null,
      "metadata": {
        "colab": {
          "background_save": true,
          "base_uri": "https://localhost:8080/"
        },
        "id": "bSRRVwxwhEXx",
        "outputId": "88cc4cee-258f-4004-eced-323235042857"
      },
      "outputs": [
        {
          "name": "stdout",
          "output_type": "stream",
          "text": [
            "[##................] - fetchMetadata: sill resolveWithNewModule ms@2.1.2 checki\u001b[0m\u001b[K\n",
            "Collecting usage statistics. To deactivate, set browser.gatherUsageStats to False.\n",
            "\u001b[0m\n",
            "\u001b[0m\n",
            "\u001b[34m\u001b[1m  You can now view your Streamlit app in your browser.\u001b[0m\n",
            "\u001b[0m\n",
            "\u001b[34m  Network URL: \u001b[0m\u001b[1mhttp://172.28.0.12:8501\u001b[0m\n",
            "\u001b[34m  External URL: \u001b[0m\u001b[1mhttp://34.90.148.146:8501\u001b[0m\n",
            "\u001b[0m\n",
            "\u001b[K\u001b[?25hnpx: installed 22 in 2.755s\n",
            "your url is: https://empty-guests-stand.loca.lt\n",
            "/usr/local/lib/python3.10/dist-packages/sklearn/metrics/_classification.py:1344: UndefinedMetricWarning: Precision and F-score are ill-defined and being set to 0.0 in labels with no predicted samples. Use `zero_division` parameter to control this behavior.\n",
            "  _warn_prf(average, modifier, msg_start, len(result))\n",
            "/usr/local/lib/python3.10/dist-packages/sklearn/metrics/_classification.py:1344: UndefinedMetricWarning: Precision and F-score are ill-defined and being set to 0.0 in labels with no predicted samples. Use `zero_division` parameter to control this behavior.\n",
            "  _warn_prf(average, modifier, msg_start, len(result))\n",
            "/usr/local/lib/python3.10/dist-packages/sklearn/metrics/_classification.py:1344: UndefinedMetricWarning: Precision and F-score are ill-defined and being set to 0.0 in labels with no predicted samples. Use `zero_division` parameter to control this behavior.\n",
            "  _warn_prf(average, modifier, msg_start, len(result))\n",
            "\u001b[34m  Stopping...\u001b[0m\n",
            "^C\n"
          ]
        }
      ],
      "source": [
        "!streamlit run app.py & npx localtunnel --port 8501"
      ]
    }
  ],
  "metadata": {
    "colab": {
      "provenance": [],
      "include_colab_link": true
    },
    "kernelspec": {
      "display_name": "Python 3",
      "name": "python3"
    },
    "language_info": {
      "name": "python"
    }
  },
  "nbformat": 4,
  "nbformat_minor": 0
}